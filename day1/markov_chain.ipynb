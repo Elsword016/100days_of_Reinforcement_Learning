{
 "cells": [
  {
   "cell_type": "markdown",
   "metadata": {},
   "source": [
    "#### Markov Decision Process\n",
    "\"The future is independent of the past given the present\"\n",
    "A state $S_{t}$ is Markov if and only if:\n",
    "$P[S_{t+1} | S_{t}] = P[S_{t+1} | S_{1}....,S_{t}]$ that means that probability of $S_{t+1}$ is only dependent on $S_{t}$ (previous state) and not on states all the states $S_{1}...S_{t}$. So, just be knowing the $S_{t}$ we can predict the next state because it captured all the relevant information from the history and we don't need the history any more."
   ]
  },
  {
   "cell_type": "markdown",
   "metadata": {},
   "source": [
    "#### State Transition matrix\n",
    "For a Markov state $s$ and successor state $s^{'}$, the probability to transistion to the successor state is defined by:\n",
    "$P_{ss'} = P[S_{t+1}=s' | S_t{t}=s]$, probability of landing in state s' giuven that I was in state s. This can be represented by a matrix, where each row of the matrix sums to 1. "
   ]
  },
  {
   "cell_type": "code",
   "execution_count": 67,
   "metadata": {},
   "outputs": [
    {
     "name": "stdout",
     "output_type": "stream",
     "text": [
      "[[0.8 0.2 0. ]\n",
      " [0.4 0.4 0.2]\n",
      " [0.1 0.7 0.2]]\n"
     ]
    }
   ],
   "source": [
    "##Markov processes \n",
    "import numpy as np  \n",
    "state_map = {'Sunny': 0, 'Rainy': 1, 'Cloudy': 2}\n",
    "reverse_state_map = {v: k for k, v in state_map.items()}\n",
    "transition_matrix = np.array([\n",
    "    [0.8, 0.2, 0.0],  # From Sunny\n",
    "    [0.4, 0.4, 0.2],  # From Cloudy\n",
    "    [0.1, 0.7, 0.2]   # From Rainy\n",
    "])\n",
    "print(transition_matrix) "
   ]
  },
  {
   "cell_type": "code",
   "execution_count": 92,
   "metadata": {},
   "outputs": [
    {
     "name": "stdout",
     "output_type": "stream",
     "text": [
      "Step 1: Cloudy\n",
      "Step 2: Rainy\n",
      "Step 3: Rainy\n",
      "Step 4: Rainy\n",
      "Step 5: Rainy\n",
      "Step 6: Rainy\n",
      "Step 7: Sunny\n"
     ]
    }
   ],
   "source": [
    "current_state = state_map['Rainy'] \n",
    "seq = [reverse_state_map[current_state]]  \n",
    "#print(f\"Step 0: {reverse_state_map[current_state]}\")  \n",
    "for i in range(7):\n",
    "    next_state = np.random.choice(len(transition_matrix), p=transition_matrix[current_state]) \n",
    "    next_state_name = reverse_state_map[next_state]  \n",
    "    seq.append(next_state_name)   \n",
    "    print(f\"Step {i+1}: {next_state_name}\")  \n",
    "    current_state = next_state  "
   ]
  },
  {
   "cell_type": "code",
   "execution_count": 93,
   "metadata": {},
   "outputs": [
    {
     "data": {
      "text/plain": [
       "['Rainy', 'Cloudy', 'Rainy', 'Rainy', 'Rainy', 'Rainy', 'Rainy', 'Sunny']"
      ]
     },
     "execution_count": 93,
     "metadata": {},
     "output_type": "execute_result"
    }
   ],
   "source": [
    "seq "
   ]
  },
  {
   "cell_type": "markdown",
   "metadata": {},
   "source": [
    "#### Explanation\n",
    "As defined before Markov process, the probability of the next state will depend on the state just before that. So, in the code, I defined some states `state_map = {'Sunny': 0, 'Rainy': 1, 'Cloudy': 2}` and I want to predict the forcast for next 7 days. And defined a transition matrix arbitarily containing probabilites for each state next to the starting state. For example, looking at the first row: \n",
    "\n",
    "\n",
    "If the **starting state is 'Sunny' that is state 0**, then the probability that the next state will also be Sunny is 0.8, 0.2 probability that next state will be Rainy (state 1) and 0.0 probability that the next state will be 'Cloudy'. And so on.\n",
    "\n",
    "Next I wrote a loop to simulate the next 7 steps with the starting state as Rainy. The code works as:\n",
    "\n",
    "```python\n",
    "current_state = 1 \n",
    "seq = ['Rainy']\n",
    "i = 0:\n",
    "next_state = np.random.choice(3,p=[0.4, 0.4, 0.2])  \n",
    "next_state = 2 \n",
    "weather = reverse_map[2] #rainy\n",
    "seq = ['Rainy','Cloudy']\n",
    "current_state = 2\n",
    "\n",
    "i = 1:\n",
    "#simulate state at t+1 from the already known state at t \n",
    "current_state =2 \n",
    "next_state = np.random.choice(3,p=[0.1 0.7 0.2])  # p = transition_matrix[2] since state at t was 2 so cloudy \n",
    "next_state = 1\n",
    "weather = reverse_map[1]\n",
    "seq = ['Rainy','Cloudy','Rainy']\n",
    "current_state = 1 #Rainy ..\n",
    "```\n",
    "So always the probability of transition to the next state $S_{t+1}$ will depend only on the state $S_{t}$ (previous state). The transition matrix is the heart of this model. Each row of the transition_matrix represents a current state, and the values in that row represent the probabilities of moving to other states in the next time step. This matrix perfectly captures that \"memoryless\" property. To determine the next day's weather, you only need to know today's weather and look at the corresponding row in the matrix."
   ]
  }
 ],
 "metadata": {
  "kernelspec": {
   "display_name": "stable",
   "language": "python",
   "name": "python3"
  },
  "language_info": {
   "codemirror_mode": {
    "name": "ipython",
    "version": 3
   },
   "file_extension": ".py",
   "mimetype": "text/x-python",
   "name": "python",
   "nbconvert_exporter": "python",
   "pygments_lexer": "ipython3",
   "version": "3.10.16"
  }
 },
 "nbformat": 4,
 "nbformat_minor": 2
}
