{
 "cells": [
  {
   "cell_type": "code",
   "execution_count": 1,
   "metadata": {},
   "outputs": [
    {
     "name": "stdout",
     "output_type": "stream",
     "text": [
      "Initial Value Function (V_0):\n",
      "[[0. 0. 0. 0.]\n",
      " [0. 0. 0. 0.]\n",
      " [0. 0. 0. 0.]\n",
      " [0. 0. 0. 0.]]\n"
     ]
    }
   ],
   "source": [
    "import numpy as np\n",
    "\n",
    "# The Grid World Environment\n",
    "states = list(range(16)) # 0-15\n",
    "terminal_states = [0, 15]\n",
    "actions = ['n', 'e', 's', 'w'] # North, East, South, West\n",
    "gamma = 1.0 # Undiscounted as per the slide\n",
    "reward = -1.0 # Constant reward for all transitions\n",
    "\n",
    "# Initialize a value function table\n",
    "V = np.zeros(len(states))\n",
    "print(\"Initial Value Function (V_0):\")\n",
    "print(V.reshape(4, 4)) "
   ]
  },
  {
   "cell_type": "code",
   "execution_count": 2,
   "metadata": {},
   "outputs": [
    {
     "name": "stdout",
     "output_type": "stream",
     "text": [
      "\n",
      "--- 'PREDICTION' PROBLEM SETUP ---\n",
      "INPUT: A full MDP model and a policy (uniform random).\n",
      "GOAL: Find the value function, V_pi, for this policy.\n"
     ]
    }
   ],
   "source": [
    "#Define the uniform random policy Pi(a|s) = 0.25 for all actions\n",
    "policy = np.full((len(states), len(actions)), 0.25) \n",
    "print(\"\\n--- 'PREDICTION' PROBLEM SETUP ---\")\n",
    "print(\"INPUT: A full MDP model and a policy (uniform random).\")\n",
    "print(\"GOAL: Find the value function, V_pi, for this policy.\") "
   ]
  },
  {
   "cell_type": "code",
   "execution_count": 3,
   "metadata": {},
   "outputs": [
    {
     "name": "stdout",
     "output_type": "stream",
     "text": [
      "\n",
      "--- 'CONTROL' PROBLEM SETUP ---\n",
      "INPUT: A full MDP model.\n",
      "GOAL: Find the optimal value function, V*, and the optimal policy, pi*.\n"
     ]
    }
   ],
   "source": [
    "print(\"\\n--- 'CONTROL' PROBLEM SETUP ---\")\n",
    "print(\"INPUT: A full MDP model.\")\n",
    "print(\"GOAL: Find the optimal value function, V*, and the optimal policy, pi*.\") "
   ]
  },
  {
   "cell_type": "code",
   "execution_count": 4,
   "metadata": {},
   "outputs": [],
   "source": [
    "def policy_evaluation(policy,V,gamma,reward,threshold=1e-6):\n",
    "    while True:\n",
    "        delta = 0 \n",
    "        V_old = V.copy() \n",
    "\n",
    "        for s in range(len(states)):\n",
    "            if s in terminal_states:\n",
    "                continue \n",
    "            new_v = 0\n",
    "            #apply bellman expectation equation\n",
    "            for a_idx,action_prob in enumerate(policy[s]):\n",
    "                next_s = get_next_state(s,actions[a_idx])\n",
    "\n",
    "                #new_v = sum(Pi(a|s) * (R(s,a,s') + gamma * V(s'))) \n",
    "                new_v += action_prob *(reward +gamma *V[next_s])\n",
    "            V[s] = new_v \n",
    "        \n",
    "        #Check for convergence \n",
    "        delta = max(delta,np.max(np.abs(V-V_old)))\n",
    "        if delta < threshold: \n",
    "            break \n",
    "    return V  "
   ]
  },
  {
   "cell_type": "code",
   "execution_count": 5,
   "metadata": {},
   "outputs": [],
   "source": [
    "def get_next_state(s, action):\n",
    "    \"\"\"\n",
    "    Given a state and action, returns the next state.\n",
    "    Handles grid boundaries.\n",
    "    \"\"\"\n",
    "    row, col = divmod(s, 4)\n",
    "    if action == 'n':\n",
    "        row = max(row - 1, 0)\n",
    "    elif action == 's':\n",
    "        row = min(row + 1, 3)\n",
    "    elif action == 'w':\n",
    "        col = max(col - 1, 0)\n",
    "    elif action == 'e':\n",
    "        col = min(col + 1, 3)\n",
    "    return row * 4 + col "
   ]
  },
  {
   "cell_type": "code",
   "execution_count": 6,
   "metadata": {},
   "outputs": [
    {
     "name": "stdout",
     "output_type": "stream",
     "text": [
      "\n",
      "--- Running Iterative Policy Evaluation ---\n",
      "Converged Value Function for the Random Policy (V_pi):\n",
      "[[  0. -14. -20. -22.]\n",
      " [-14. -18. -20. -20.]\n",
      " [-20. -20. -18. -14.]\n",
      " [-22. -20. -14.   0.]]\n",
      "(Compare with k=inf on slide 11)\n"
     ]
    }
   ],
   "source": [
    "print(\"\\n--- Running Iterative Policy Evaluation ---\")\n",
    "# Start with V_0 = all zeros\n",
    "V_eval = np.zeros(len(states))\n",
    "# Use the uniform random policy\n",
    "uniform_policy = np.full((len(states), len(actions)), 0.25)\n",
    "\n",
    "V_pi = policy_evaluation(uniform_policy, V_eval, gamma, reward)\n",
    "print(\"Converged Value Function for the Random Policy (V_pi):\")\n",
    "print(np.round(V_pi.reshape(4, 4), 1))\n",
    "print(\"(Compare with k=inf on slide 11)\") "
   ]
  },
  {
   "cell_type": "code",
   "execution_count": 7,
   "metadata": {},
   "outputs": [],
   "source": [
    "def policy_improvement(V, gamma, reward):\n",
    "    \"\"\"\n",
    "    Improves a policy by acting greedily with respect to a value function.\n",
    "    \"\"\"\n",
    "    new_policy = np.zeros_like(policy) # Start with a new policy table\n",
    "    \n",
    "    for s in range(len(states)):\n",
    "        if s in terminal_states:\n",
    "            continue\n",
    "            \n",
    "        # Calculate q-value for each action\n",
    "        q_values = []\n",
    "        for a_idx, action in enumerate(actions):\n",
    "            next_s = get_next_state(s, action)\n",
    "            q = reward + gamma * V[next_s]\n",
    "            q_values.append(q)\n",
    "            \n",
    "        # The new policy is to deterministically choose the best action\n",
    "        best_action_idx = np.argmax(q_values)\n",
    "        new_policy[s, best_action_idx] = 1.0 # Set probability to 1 for the best action\n",
    "        \n",
    "    return new_policy "
   ]
  },
  {
   "cell_type": "code",
   "execution_count": 8,
   "metadata": {},
   "outputs": [
    {
     "name": "stdout",
     "output_type": "stream",
     "text": [
      "Policy has converged!\n",
      "\n",
      "Optimal Value Function (V*):\n",
      "[[ 0. -1. -2. -3.]\n",
      " [-1. -2. -3. -2.]\n",
      " [-2. -3. -2. -1.]\n",
      " [-3. -2. -1.  0.]]\n",
      "\n",
      "Optimal Policy (pi*):\n",
      "[['↑' '←' '←' '↓']\n",
      " ['↑' '↑' '↑' '↓']\n",
      " ['↑' '↑' '→' '↓']\n",
      " ['↑' '→' '→' '↑']]\n"
     ]
    }
   ],
   "source": [
    "# Start with the uniform random policy\n",
    "current_policy = np.full((len(states), len(actions)), 0.25)\n",
    "V_control = np.zeros(len(states))\n",
    "\n",
    "while True:\n",
    "    # 1. Evaluate the current policy\n",
    "    V_control = policy_evaluation(current_policy, V_control, gamma, reward)\n",
    "    \n",
    "    # 2. Improve the policy by acting greedily\n",
    "    new_policy = policy_improvement(V_control, gamma, reward)\n",
    "    \n",
    "    # 3. Check for convergence\n",
    "    if np.array_equal(new_policy, current_policy):\n",
    "        print(\"Policy has converged!\")\n",
    "        break\n",
    "        \n",
    "    current_policy = new_policy\n",
    "\n",
    "print(\"\\nOptimal Value Function (V*):\")\n",
    "print(np.round(V_control.reshape(4, 4), 1))\n",
    "print(\"\\nOptimal Policy (pi*):\")\n",
    "# Convert numeric policy to arrows for display\n",
    "arrows = ['↑', '→', '↓', '←'] \n",
    "optimal_actions = np.argmax(current_policy, axis=1)\n",
    "print(np.array([arrows[i] for i in optimal_actions]).reshape(4,4))"
   ]
  }
 ],
 "metadata": {
  "kernelspec": {
   "display_name": "brainglobe_nightly",
   "language": "python",
   "name": "python3"
  },
  "language_info": {
   "codemirror_mode": {
    "name": "ipython",
    "version": 3
   },
   "file_extension": ".py",
   "mimetype": "text/x-python",
   "name": "python",
   "nbconvert_exporter": "python",
   "pygments_lexer": "ipython3",
   "version": "3.13.2"
  }
 },
 "nbformat": 4,
 "nbformat_minor": 2
}
